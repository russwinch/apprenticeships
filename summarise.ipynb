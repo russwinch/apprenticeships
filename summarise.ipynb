{
 "cells": [
  {
   "cell_type": "markdown",
   "metadata": {},
   "source": [
    "# Summary of apprenticeships data"
   ]
  },
  {
   "cell_type": "code",
   "execution_count": 1,
   "metadata": {},
   "outputs": [],
   "source": [
    "import matplotlib.pyplot as plt\n",
    "import numpy as np\n",
    "import pandas as pd\n",
    "\n",
    "df = pd.read_json('step2b.json')"
   ]
  },
  {
   "cell_type": "markdown",
   "metadata": {},
   "source": [
    "### Overall summary"
   ]
  },
  {
   "cell_type": "code",
   "execution_count": 2,
   "metadata": {},
   "outputs": [
    {
     "data": {
      "text/plain": [
       "'Total rows: 1062 | columns: 21'"
      ]
     },
     "execution_count": 2,
     "metadata": {},
     "output_type": "execute_result"
    }
   ],
   "source": [
    "f\"Total rows: {df.shape[0]} | columns: {df.shape[1]}\""
   ]
  },
  {
   "cell_type": "markdown",
   "metadata": {},
   "source": [
    "Available columns of data:"
   ]
  },
  {
   "cell_type": "code",
   "execution_count": 3,
   "metadata": {},
   "outputs": [
    {
     "name": "stdout",
     "output_type": "stream",
     "text": [
      "approved_date\n",
      "contact\n",
      "data_updated\n",
      "degree_type\n",
      "employers_involved\n",
      "endpoint_assessment\n",
      "entry_requirements\n",
      "expected_learnings\n",
      "ifa_url\n",
      "length\n",
      "level\n",
      "max_funding\n",
      "name\n",
      "professional_registration\n",
      "qualifications\n",
      "reference_code\n",
      "route\n",
      "source\n",
      "status\n",
      "suitable_job_roles\n",
      "version\n"
     ]
    }
   ],
   "source": [
    "print('\\n'.join(list(df)))"
   ]
  },
  {
   "cell_type": "markdown",
   "metadata": {},
   "source": [
    "Data sources. Merged data shows multiple sources."
   ]
  },
  {
   "cell_type": "code",
   "execution_count": 4,
   "metadata": {
    "scrolled": false
   },
   "outputs": [
    {
     "data": {
      "text/plain": [
       "['Find Apprenticeship Training']                                     505\n",
       "['Institute for Apprenticeships', 'Find Apprenticeship Training']    273\n",
       "['Institute for Apprenticeships']                                    284\n",
       "Name: name, dtype: int64"
      ]
     },
     "execution_count": 4,
     "metadata": {},
     "output_type": "execute_result"
    }
   ],
   "source": [
    "df.groupby(by=lambda s: str(df.source[s]))['name'].count()"
   ]
  },
  {
   "cell_type": "markdown",
   "metadata": {},
   "source": [
    "### Status"
   ]
  },
  {
   "cell_type": "code",
   "execution_count": 5,
   "metadata": {},
   "outputs": [
    {
     "data": {
      "text/plain": [
       "status\n",
       "Approved for delivery    327\n",
       "Decommissioned             3\n",
       "In development           227\n",
       "Name: status, dtype: int64"
      ]
     },
     "execution_count": 5,
     "metadata": {},
     "output_type": "execute_result"
    }
   ],
   "source": [
    "df.groupby(by=['status'])['status'].count()"
   ]
  },
  {
   "cell_type": "markdown",
   "metadata": {},
   "source": [
    "Missing data from status:"
   ]
  },
  {
   "cell_type": "code",
   "execution_count": 6,
   "metadata": {},
   "outputs": [
    {
     "data": {
      "text/plain": [
       "505"
      ]
     },
     "execution_count": 6,
     "metadata": {},
     "output_type": "execute_result"
    }
   ],
   "source": [
    "no_status = df[df.status.isna()]\n",
    "total_rows = len(df)\n",
    "assert len(no_status) + df.status.count() == total_rows\n",
    "len(no_status)"
   ]
  },
  {
   "cell_type": "markdown",
   "metadata": {},
   "source": [
    "### Max funding available"
   ]
  },
  {
   "cell_type": "code",
   "execution_count": 7,
   "metadata": {},
   "outputs": [
    {
     "data": {
      "text/plain": [
       "count      833.000000\n",
       "mean      8239.495798\n",
       "std       7026.047912\n",
       "min       1500.000000\n",
       "25%       3000.000000\n",
       "50%       6000.000000\n",
       "75%      12000.000000\n",
       "max      27000.000000\n",
       "Name: max_funding, dtype: float64"
      ]
     },
     "execution_count": 7,
     "metadata": {},
     "output_type": "execute_result"
    }
   ],
   "source": [
    "df.max_funding.describe()"
   ]
  },
  {
   "cell_type": "markdown",
   "metadata": {},
   "source": [
    "Distribution of maximum funding available:"
   ]
  },
  {
   "cell_type": "code",
   "execution_count": 8,
   "metadata": {
    "scrolled": false
   },
   "outputs": [
    {
     "data": {
      "image/png": "[encoded data removed]",
      "text/plain": [
       "<Figure size 720x504 with 1 Axes>"
      ]
     },
     "metadata": {},
     "output_type": "display_data"
    }
   ],
   "source": [
    "max_fund_no_na = df[~df.max_funding.isna()]\n",
    "\n",
    "fig, ax = plt.subplots(figsize=(10, 7))\n",
    "bins = 5\n",
    "ax.hist(max_fund_no_na.max_funding, bins)\n",
    "ax.set_xlabel('Maximum funding available £')\n",
    "ax.set_ylabel('Total')\n",
    "plt.show()"
   ]
  },
  {
   "cell_type": "markdown",
   "metadata": {},
   "source": [
    "### Apprenticeship level"
   ]
  },
  {
   "cell_type": "code",
   "execution_count": 9,
   "metadata": {},
   "outputs": [
    {
     "data": {
      "text/plain": [
       "count    1062.000000\n",
       "mean        3.259887\n",
       "std         1.363407\n",
       "min         0.000000\n",
       "25%         2.000000\n",
       "50%         3.000000\n",
       "75%         4.000000\n",
       "max         7.000000\n",
       "Name: level, dtype: float64"
      ]
     },
     "execution_count": 9,
     "metadata": {},
     "output_type": "execute_result"
    }
   ],
   "source": [
    "df.level.describe()"
   ]
  },
  {
   "cell_type": "markdown",
   "metadata": {},
   "source": [
    "Missing data from level:"
   ]
  },
  {
   "cell_type": "code",
   "execution_count": 10,
   "metadata": {},
   "outputs": [
    {
     "data": {
      "text/plain": [
       "2"
      ]
     },
     "execution_count": 10,
     "metadata": {},
     "output_type": "execute_result"
    }
   ],
   "source": [
    "len(df[df.level == 0])"
   ]
  },
  {
   "cell_type": "code",
   "execution_count": 11,
   "metadata": {},
   "outputs": [
    {
     "data": {
      "text/plain": [
       "level\n",
       "0      2\n",
       "2    341\n",
       "3    428\n",
       "4    121\n",
       "5     45\n",
       "6     88\n",
       "7     37\n",
       "Name: level, dtype: int64"
      ]
     },
     "execution_count": 11,
     "metadata": {},
     "output_type": "execute_result"
    }
   ],
   "source": [
    "level_summary = df.groupby(by=['level'])['level'].count()\n",
    "level_summary"
   ]
  },
  {
   "cell_type": "markdown",
   "metadata": {},
   "source": [
    "Distribution of levels:"
   ]
  },
  {
   "cell_type": "code",
   "execution_count": 12,
   "metadata": {},
   "outputs": [
    {
     "data": {
      "image/png": "[encoded data removed]",
      "text/plain": [
       "<Figure size 720x504 with 1 Axes>"
      ]
     },
     "metadata": {},
     "output_type": "display_data"
    }
   ],
   "source": [
    "x = level_summary.index\n",
    "y = list(level_summary)\n",
    "width = 1/1.5\n",
    "fig, ax = plt.subplots(figsize=(10, 7))\n",
    "ax.set_xlabel('Level')\n",
    "ax.set_ylabel('Total')\n",
    "ax.bar(x, y, width)\n",
    "plt.show()"
   ]
  },
  {
   "cell_type": "markdown",
   "metadata": {},
   "source": [
    "### Length of apprenticeship"
   ]
  },
  {
   "cell_type": "code",
   "execution_count": 13,
   "metadata": {},
   "outputs": [
    {
     "data": {
      "text/plain": [
       "count           843\n",
       "unique           19\n",
       "top       12 months\n",
       "freq            262\n",
       "Name: length, dtype: object"
      ]
     },
     "execution_count": 13,
     "metadata": {},
     "output_type": "execute_result"
    }
   ],
   "source": [
    "df.length.describe()"
   ]
  },
  {
   "cell_type": "code",
   "execution_count": 14,
   "metadata": {},
   "outputs": [
    {
     "data": {
      "text/plain": [
       "count    843.000000\n",
       "mean      21.843416\n",
       "std       11.106659\n",
       "min       12.000000\n",
       "25%       12.000000\n",
       "50%       18.000000\n",
       "75%       24.000000\n",
       "max       66.000000\n",
       "Name: length_months_int, dtype: float64"
      ]
     },
     "execution_count": 14,
     "metadata": {},
     "output_type": "execute_result"
    }
   ],
   "source": [
    "not_null_length = df[~df.length.isnull()]\n",
    "df['length_months_int'] = df.apply(lambda row: int(row.length[:2]) if row.length else None, axis=1)\n",
    "df.length_months_int.describe()"
   ]
  },
  {
   "cell_type": "code",
   "execution_count": 15,
   "metadata": {},
   "outputs": [
    {
     "data": {
      "text/plain": [
       "length\n",
       "12 months    262\n",
       "13 months      1\n",
       "14 months      5\n",
       "15 months     21\n",
       "16 months      3\n",
       "18 months    204\n",
       "20 months      6\n",
       "22 months      1\n",
       "23 months      1\n",
       "24 months    167\n",
       "30 months     23\n",
       "33 months      1\n",
       "36 months     75\n",
       "38 months      1\n",
       "42 months     27\n",
       "48 months     26\n",
       "50 months      1\n",
       "60 months     17\n",
       "66 months      1\n",
       "Name: length, dtype: int64"
      ]
     },
     "execution_count": 15,
     "metadata": {},
     "output_type": "execute_result"
    }
   ],
   "source": [
    "length_summary = df.groupby(by=['length'])['length'].count()\n",
    "length_summary"
   ]
  },
  {
   "cell_type": "code",
   "execution_count": 16,
   "metadata": {},
   "outputs": [
    {
     "data": {
      "image/png": "[encoded data removed]",
      "text/plain": [
       "<Figure size 1080x504 with 1 Axes>"
      ]
     },
     "metadata": {},
     "output_type": "display_data"
    }
   ],
   "source": [
    "x = [int(m[:2]) for m in length_summary.index]\n",
    "y = list(length_summary)\n",
    "width = 1/1.5\n",
    "fig, ax = plt.subplots(figsize=(15, 7))\n",
    "ax.xaxis.set_ticks(np.arange(min(x), max(x)+1, 2.0))\n",
    "ax.set_xlabel('Months')\n",
    "ax.set_ylabel('Total')\n",
    "ax.bar(x, y, width)\n",
    "plt.show()"
   ]
  }
 ],
 "metadata": {
  "kernelspec": {
   "display_name": "Python 3",
   "language": "python",
   "name": "python3"
  },
  "language_info": {
   "codemirror_mode": {
    "name": "ipython",
    "version": 3
   },
   "file_extension": ".py",
   "mimetype": "text/x-python",
   "name": "python",
   "nbconvert_exporter": "python",
   "pygments_lexer": "ipython3",
   "version": "3.6.5"
  }
 },
 "nbformat": 4,
 "nbformat_minor": 2
}
