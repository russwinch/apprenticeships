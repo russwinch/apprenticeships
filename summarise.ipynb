{
 "cells": [
  {
   "cell_type": "markdown",
   "metadata": {},
   "source": [
    "# Summary of apprenticeships data"
   ]
  },
  {
   "cell_type": "code",
   "execution_count": 1,
   "metadata": {},
   "outputs": [],
   "source": [
    "import pandas as pd\n",
    "import matplotlib.pyplot as plt\n",
    "import numpy as np\n",
    "\n",
    "df = pd.read_json('step2b.json')"
   ]
  },
  {
   "cell_type": "markdown",
   "metadata": {},
   "source": [
    "### Overall summary"
   ]
  },
  {
   "cell_type": "code",
   "execution_count": 4,
   "metadata": {
    "scrolled": false
   },
   "outputs": [
    {
     "name": "stdout",
     "output_type": "stream",
     "text": [
      "Total rows: 1061 | columns: 21\n",
      "Columns:\n",
      "approved_date\n",
      "contact\n",
      "data_updated\n",
      "degree_type\n",
      "employers_involved\n",
      "endpoint_assessment\n",
      "entry_requirements\n",
      "expected_learnings\n",
      "ifa_url\n",
      "length\n",
      "level\n",
      "max_funding\n",
      "name\n",
      "professional_registration\n",
      "qualifications\n",
      "recommended_training\n",
      "reference_code\n",
      "route\n",
      "status\n",
      "suitable_job_roles\n",
      "version\n"
     ]
    }
   ],
   "source": [
    "print(f\"Total rows: {df.shape[0]} | columns: {df.shape[1]}\")\n",
    "column_headers = '\\n'.join(list(df))\n",
    "print(f\"Columns:\\n{column_headers}\")\n",
    "total_rows = len(df)"
   ]
  },
  {
   "cell_type": "markdown",
   "metadata": {},
   "source": [
    "### Status"
   ]
  },
  {
   "cell_type": "code",
   "execution_count": 5,
   "metadata": {},
   "outputs": [
    {
     "name": "stdout",
     "output_type": "stream",
     "text": [
      "status\n",
      "Approved for delivery    307\n",
      "Decommissioned             3\n",
      "In development           247\n",
      "Name: status, dtype: int64\n",
      "NAs in status: 504\n"
     ]
    }
   ],
   "source": [
    "status_summary = df.groupby(by=['status'])['status'].count()\n",
    "print(status_summary)\n",
    "no_status = df[df.status.isna()]\n",
    "assert len(no_status) + df.status.count() == total_rows\n",
    "print(f\"NAs in status: {len(no_status)}\")"
   ]
  },
  {
   "cell_type": "markdown",
   "metadata": {},
   "source": [
    "### Max funding available"
   ]
  },
  {
   "cell_type": "code",
   "execution_count": 6,
   "metadata": {},
   "outputs": [
    {
     "name": "stdout",
     "output_type": "stream",
     "text": [
      "count      812.000000\n",
      "mean      8134.236453\n",
      "std       6971.570614\n",
      "min       1500.000000\n",
      "25%       3000.000000\n",
      "50%       6000.000000\n",
      "75%      12000.000000\n",
      "max      27000.000000\n",
      "Name: max_funding, dtype: float64\n"
     ]
    }
   ],
   "source": [
    "print(df.max_funding.describe())"
   ]
  },
  {
   "cell_type": "markdown",
   "metadata": {},
   "source": [
    "TODO: add histogram of funding"
   ]
  },
  {
   "cell_type": "markdown",
   "metadata": {},
   "source": [
    "### Level"
   ]
  },
  {
   "cell_type": "code",
   "execution_count": 7,
   "metadata": {},
   "outputs": [
    {
     "name": "stdout",
     "output_type": "stream",
     "text": [
      "count    1061.000000\n",
      "mean        3.260132\n",
      "std         1.364027\n",
      "min         0.000000\n",
      "25%         2.000000\n",
      "50%         3.000000\n",
      "75%         4.000000\n",
      "max         7.000000\n",
      "Name: level, dtype: float64\n",
      "NAs in level: 0\n",
      "level\n",
      "0      2\n",
      "2    341\n",
      "3    427\n",
      "4    121\n",
      "5     45\n",
      "6     88\n",
      "7     37\n",
      "Name: level, dtype: int64\n"
     ]
    }
   ],
   "source": [
    "print(df.level.describe())\n",
    "empty_level = df[df.level.isna()]\n",
    "print(f\"NAs in level: {len(empty_level)}\")\n",
    "level_summary = df.groupby(by=['level'])['level'].count()\n",
    "print(level_summary)"
   ]
  },
  {
   "cell_type": "markdown",
   "metadata": {},
   "source": [
    "TODO: add graph of levels"
   ]
  },
  {
   "cell_type": "markdown",
   "metadata": {},
   "source": [
    "### Length"
   ]
  },
  {
   "cell_type": "code",
   "execution_count": 9,
   "metadata": {},
   "outputs": [
    {
     "name": "stdout",
     "output_type": "stream",
     "text": [
      "count           825\n",
      "unique           19\n",
      "top       12 months\n",
      "freq            257\n",
      "Name: length, dtype: object\n",
      "length\n",
      "12 months    257\n",
      "13 months      1\n",
      "14 months      5\n",
      "15 months     20\n",
      "16 months      3\n",
      "18 months    198\n",
      "20 months      6\n",
      "22 months      1\n",
      "23 months      1\n",
      "24 months    167\n",
      "30 months     22\n",
      "33 months      1\n",
      "36 months     71\n",
      "38 months      1\n",
      "42 months     26\n",
      "48 months     26\n",
      "50 months      1\n",
      "60 months     17\n",
      "66 months      1\n",
      "Name: length, dtype: int64\n",
      "count    825.000000\n",
      "mean      21.836364\n",
      "std       11.124456\n",
      "min       12.000000\n",
      "25%       12.000000\n",
      "50%       18.000000\n",
      "75%       24.000000\n",
      "max       66.000000\n",
      "dtype: float64\n"
     ]
    }
   ],
   "source": [
    "print(df.length.describe())\n",
    "print(df.groupby(by=['length'])['length'].count())\n",
    "not_null_length = df[~df.length.isnull()]\n",
    "not_null_length.describe()\n",
    "df['length_months_int'] = df.apply(lambda row: int(row.length[:2]) if row.length else None, axis=1)\n",
    "print(df.length_months_int.describe())\n",
    "# length_months = [int(m[:2]) for m in df.length if m]\n"
   ]
  },
  {
   "cell_type": "markdown",
   "metadata": {},
   "source": [
    "TODO: add graph of length"
   ]
  }
 ],
 "metadata": {
  "kernelspec": {
   "display_name": "Python 3",
   "language": "python",
   "name": "python3"
  },
  "language_info": {
   "codemirror_mode": {
    "name": "ipython",
    "version": 3
   },
   "file_extension": ".py",
   "mimetype": "text/x-python",
   "name": "python",
   "nbconvert_exporter": "python",
   "pygments_lexer": "ipython3",
   "version": "3.6.5"
  }
 },
 "nbformat": 4,
 "nbformat_minor": 2
}
